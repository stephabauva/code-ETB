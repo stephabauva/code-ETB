{
  "nbformat": 4,
  "nbformat_minor": 0,
  "metadata": {
    "colab": {
      "provenance": [],
      "collapsed_sections": []
    },
    "kernelspec": {
      "name": "python3",
      "display_name": "Python 3"
    },
    "language_info": {
      "name": "python"
    }
  },
  "cells": [
    {
      "cell_type": "markdown",
      "source": [
        "Install dependencies"
      ],
      "metadata": {
        "id": "AQrgGjwMMsiQ"
      }
    },
    {
      "cell_type": "code",
      "execution_count": null,
      "metadata": {
        "id": "K6SPG2e-12Sw"
      },
      "outputs": [],
      "source": [
        "!pip install web3\n",
        "\n",
        "# Below installs are specific for the latest version of web3 to work with google colab\n",
        "!pip install protobuf==3.17.3\n",
        "!pip install eth-tester"
      ]
    },
    {
      "cell_type": "code",
      "source": [
        "# used to print all outputs from a cell\n",
        "from IPython.core.interactiveshell import InteractiveShell\n",
        "InteractiveShell.ast_node_interactivity = \"all\"\n",
        "# default value is: \"last_expr\""
      ],
      "metadata": {
        "id": "1LDDwDF0dF6K"
      },
      "execution_count": null,
      "outputs": []
    },
    {
      "cell_type": "markdown",
      "source": [
        "Connect to Infura"
      ],
      "metadata": {
        "id": "Qy_Fr5n4MpKL"
      }
    },
    {
      "cell_type": "code",
      "source": [
        "from web3 import Web3\n",
        "\n",
        "infura_url = \"\"\n",
        "w3 = Web3(Web3.HTTPProvider(infura_url))\n",
        "  \n",
        "print(w3.isConnected())"
      ],
      "metadata": {
        "colab": {
          "base_uri": "https://localhost:8080/"
        },
        "id": "3eOvOJEv2mYB",
        "outputId": "ff0a6504-aaff-414b-f13e-b62b9da7d6a1"
      },
      "execution_count": null,
      "outputs": [
        {
          "output_type": "stream",
          "name": "stdout",
          "text": [
            "True\n"
          ]
        }
      ]
    },
    {
      "cell_type": "markdown",
      "source": [
        "Connect to smart contract"
      ],
      "metadata": {
        "id": "BNizuQIEMjhe"
      }
    },
    {
      "cell_type": "code",
      "source": [
        "abi = [{\"inputs\":[{\"internalType\":\"bytes32\",\"name\":\"_password\",\"type\":\"bytes32\"}],\"name\":\"addUser\",\"outputs\":[],\"stateMutability\":\"nonpayable\",\"type\":\"function\"},{\"inputs\":[{\"internalType\":\"bytes32\",\"name\":\"_password\",\"type\":\"bytes32\"}],\"stateMutability\":\"nonpayable\",\"type\":\"constructor\"},{\"inputs\":[],\"name\":\"count\",\"outputs\":[{\"internalType\":\"uint256\",\"name\":\"\",\"type\":\"uint256\"}],\"stateMutability\":\"view\",\"type\":\"function\"},{\"inputs\":[{\"internalType\":\"uint256\",\"name\":\"\",\"type\":\"uint256\"}],\"name\":\"data\",\"outputs\":[{\"internalType\":\"bytes32\",\"name\":\"\",\"type\":\"bytes32\"}],\"stateMutability\":\"view\",\"type\":\"function\"},{\"inputs\":[{\"internalType\":\"uint256\",\"name\":\"slot\",\"type\":\"uint256\"},{\"internalType\":\"uint256\",\"name\":\"index\",\"type\":\"uint256\"},{\"internalType\":\"uint256\",\"name\":\"elementSize\",\"type\":\"uint256\"}],\"name\":\"getArrayLocation\",\"outputs\":[{\"internalType\":\"uint256\",\"name\":\"\",\"type\":\"uint256\"}],\"stateMutability\":\"pure\",\"type\":\"function\"},{\"inputs\":[{\"internalType\":\"uint256\",\"name\":\"slot\",\"type\":\"uint256\"},{\"internalType\":\"uint256\",\"name\":\"key\",\"type\":\"uint256\"}],\"name\":\"getMapLocation\",\"outputs\":[{\"internalType\":\"uint256\",\"name\":\"\",\"type\":\"uint256\"}],\"stateMutability\":\"pure\",\"type\":\"function\"},{\"inputs\":[],\"name\":\"isTrue\",\"outputs\":[{\"internalType\":\"bool\",\"name\":\"\",\"type\":\"bool\"}],\"stateMutability\":\"view\",\"type\":\"function\"},{\"inputs\":[],\"name\":\"owner\",\"outputs\":[{\"internalType\":\"address\",\"name\":\"\",\"type\":\"address\"}],\"stateMutability\":\"view\",\"type\":\"function\"},{\"inputs\":[],\"name\":\"someConst\",\"outputs\":[{\"internalType\":\"uint256\",\"name\":\"\",\"type\":\"uint256\"}],\"stateMutability\":\"view\",\"type\":\"function\"},{\"inputs\":[],\"name\":\"u16\",\"outputs\":[{\"internalType\":\"uint16\",\"name\":\"\",\"type\":\"uint16\"}],\"stateMutability\":\"view\",\"type\":\"function\"}]\n",
        "addr = \"0x18a975685Bf6e76604d221ce43A347946848C164\"\n",
        "\n",
        "contract = w3.eth.contract(address=addr, abi=abi)\n",
        "contract"
      ],
      "metadata": {
        "colab": {
          "base_uri": "https://localhost:8080/"
        },
        "id": "qcQbfBUHJpxg",
        "outputId": "728c8d94-6f04-4b37-9411-848fe0e94056"
      },
      "execution_count": null,
      "outputs": [
        {
          "output_type": "execute_result",
          "data": {
            "text/plain": [
              "<web3._utils.datatypes.Contract at 0x7f820c55ee90>"
            ]
          },
          "metadata": {},
          "execution_count": 3
        }
      ]
    },
    {
      "cell_type": "markdown",
      "source": [
        "Slot 0"
      ],
      "metadata": {
        "id": "HeV7j_B6NOYF"
      }
    },
    {
      "cell_type": "code",
      "source": [
        "w3.eth.getStorageAt(addr, 0)\n",
        "display(int(0x7b))"
      ],
      "metadata": {
        "id": "249Z12z67Ksc",
        "colab": {
          "base_uri": "https://localhost:8080/",
          "height": 53
        },
        "outputId": "8fe37647-54ea-4b59-b70b-4da966db536c"
      },
      "execution_count": null,
      "outputs": [
        {
          "output_type": "execute_result",
          "data": {
            "text/plain": [
              "HexBytes('0x000000000000000000000000000000000000000000000000000000000000007b')"
            ]
          },
          "metadata": {},
          "execution_count": 4
        },
        {
          "output_type": "display_data",
          "data": {
            "text/plain": [
              "123"
            ]
          },
          "metadata": {}
        }
      ]
    },
    {
      "cell_type": "markdown",
      "source": [
        "slot 1 - u16, isTrue, owner"
      ],
      "metadata": {
        "id": "g_MvDEtPNT4Y"
      }
    },
    {
      "cell_type": "code",
      "source": [
        "w3.eth.getStorageAt(addr, 1)\n",
        "# u16 = 1f\n",
        "# boolean value = 01\n",
        "# owner addr = your-wallet-address\n",
        "display(int(0x1f))"
      ],
      "metadata": {
        "id": "o9GO3_7k7LpE",
        "colab": {
          "base_uri": "https://localhost:8080/",
          "height": 53
        },
        "outputId": "b98ac9c0-215c-4aad-ef1e-35fc06c0e0db"
      },
      "execution_count": null,
      "outputs": [
        {
          "output_type": "execute_result",
          "data": {
            "text/plain": [
              "HexBytes('0x000000000000000000001f015da4821fdaf8395d42805bc67f44a01e90c9e5b6')"
            ]
          },
          "metadata": {},
          "execution_count": 5
        },
        {
          "output_type": "display_data",
          "data": {
            "text/plain": [
              "31"
            ]
          },
          "metadata": {}
        }
      ]
    },
    {
      "cell_type": "markdown",
      "source": [
        "slot 2 - password"
      ],
      "metadata": {
        "id": "sGajYyT8NXo_"
      }
    },
    {
      "cell_type": "code",
      "source": [
        "# Get the HexBytes in slot 2nd\n",
        "print('Content in slot 2:')\n",
        "display(w3.eth.getStorageAt(addr, 2))\n",
        "\n",
        "### Option 1\n",
        "print('\\nOption 1')\n",
        "def hex_to_string(hex):\n",
        "    if hex[:2] == '0x':\n",
        "        hex = hex[2:]\n",
        "    string_value = bytes.fromhex(str(hex)).decode('utf-8')\n",
        "    return string_value\n",
        "\n",
        "# get hex sring from hexbytes object\n",
        "print(' Isolate the hex value from the HexBytes object')\n",
        "hexSlot2 = w3.eth.getStorageAt(addr, 2).hex()\n",
        "display(hexSlot2)\n",
        "\n",
        "# convert to human readable value\n",
        "print('\\n Get User1 password usign custom function')\n",
        "pwdSlot2 = hex_to_string(hexSlot2)\n",
        "display(pwdSlot2)\n",
        "\n",
        "### Option 2\n",
        "print('\\nOption 2: using built-in python function')\n",
        "# Use python built-in function to convert to ascii; in javascript: web3.utils.toAscii(\"...\")\n",
        "display(str(w3.eth.getStorageAt(addr, 2)))"
      ],
      "metadata": {
        "colab": {
          "base_uri": "https://localhost:8080/",
          "height": 233
        },
        "id": "QJkUc9bhjnwh",
        "outputId": "b6cc312e-a57e-47e7-fdf0-8f6d9a594d9b"
      },
      "execution_count": null,
      "outputs": [
        {
          "output_type": "stream",
          "name": "stdout",
          "text": [
            "Content in slot 2:\n"
          ]
        },
        {
          "output_type": "display_data",
          "data": {
            "text/plain": [
              "HexBytes('0x7468697369736173757065727374726f6e6770617373776f7264000000000000')"
            ]
          },
          "metadata": {}
        },
        {
          "output_type": "stream",
          "name": "stdout",
          "text": [
            "\n",
            "Option 1\n",
            " Isolate the hex value from the HexBytes object\n"
          ]
        },
        {
          "output_type": "display_data",
          "data": {
            "text/plain": [
              "'0x7468697369736173757065727374726f6e6770617373776f7264000000000000'"
            ],
            "application/vnd.google.colaboratory.intrinsic+json": {
              "type": "string"
            }
          },
          "metadata": {}
        },
        {
          "output_type": "stream",
          "name": "stdout",
          "text": [
            "\n",
            " Get User1 password usign custom function\n"
          ]
        },
        {
          "output_type": "display_data",
          "data": {
            "text/plain": [
              "'thisisasuperstrongpassword\\x00\\x00\\x00\\x00\\x00\\x00'"
            ],
            "application/vnd.google.colaboratory.intrinsic+json": {
              "type": "string"
            }
          },
          "metadata": {}
        },
        {
          "output_type": "stream",
          "name": "stdout",
          "text": [
            "\n",
            "Option 2: using built-in python function\n"
          ]
        },
        {
          "output_type": "display_data",
          "data": {
            "text/plain": [
              "\"b'thisisasuperstrongpassword\\\\x00\\\\x00\\\\x00\\\\x00\\\\x00\\\\x00'\""
            ],
            "application/vnd.google.colaboratory.intrinsic+json": {
              "type": "string"
            }
          },
          "metadata": {}
        }
      ]
    },
    {
      "cell_type": "markdown",
      "source": [
        "slot 6 - array length "
      ],
      "metadata": {
        "id": "uhju5KEtN0ZD"
      }
    },
    {
      "cell_type": "code",
      "source": [
        "# how many users have ben stored ?\n",
        "w3.eth.getStorageAt(addr, 6)"
      ],
      "metadata": {
        "colab": {
          "base_uri": "https://localhost:8080/"
        },
        "id": "qQnFQxhjq30e",
        "outputId": "6956aebd-b880-4635-d1e4-10d72fd7ae93"
      },
      "execution_count": null,
      "outputs": [
        {
          "output_type": "execute_result",
          "data": {
            "text/plain": [
              "HexBytes('0x0000000000000000000000000000000000000000000000000000000000000002')"
            ]
          },
          "metadata": {},
          "execution_count": 7
        }
      ]
    },
    {
      "cell_type": "markdown",
      "source": [
        "User 1"
      ],
      "metadata": {
        "id": "y9zqPXrQRR9M"
      }
    },
    {
      "cell_type": "code",
      "source": [
        "# Get the location of the 1st array element\n",
        "print('Where is the array\\'s 1st item stored ?')\n",
        "\n",
        "# Option 1:\n",
        "print('\\nOption 1: using custom solidity function')\n",
        "loc = contract.functions.getArrayLocation(6, 0, 2).call()\n",
        "print(f' User 1 data location: {loc}')\n",
        "\n",
        "hexloc = w3.toHex(loc)\n",
        "print(f'\\nUser 1 data location in hexadecimals:', hexloc)\n",
        "\n",
        "# Option 2:\n",
        "print('\\nOption 2: soliditySha3')\n",
        "hash_user1_location = w3.soliditySha3(['uint256'], [6])\n",
        "display(hash_user1_location)\n",
        "\n",
        "# Get the ID of the first user\n",
        "print('\\nUse hash_user1_location to get the ID of the first User')\n",
        "print(' ID of the first User:')\n",
        "display(w3.eth.getStorageAt(addr, hash_user1_location))\n",
        "\n",
        "# Get hash of User 1 password location: increment hash of ID by 1\n",
        "print('\\nGet hash of User 1 password location: increment hash of ID by 1')\n",
        "hash_user1_PWD_location = \"0xf652222313e28459528d920b65115c16c04f3efc82aaedc97be59f3f377c0d40\"\n",
        "display(hash_user1_PWD_location)\n",
        "print('\\n ..3f becomes ..40')"
      ],
      "metadata": {
        "colab": {
          "base_uri": "https://localhost:8080/",
          "height": 339
        },
        "id": "dtK28CMNOVPT",
        "outputId": "3398c394-c8d7-4ba4-c1a6-16e4ddcf8f8c"
      },
      "execution_count": null,
      "outputs": [
        {
          "output_type": "stream",
          "name": "stdout",
          "text": [
            "Where is the array's 1st item stored ?\n",
            "\n",
            "Option 1: using custom solidity function\n",
            " User 1 data location: 111414077815863400510004064629973595961579173665589224203503662149373724986687\n",
            "\n",
            "User 1 data location in hexadecimals: 0xf652222313e28459528d920b65115c16c04f3efc82aaedc97be59f3f377c0d3f\n",
            "\n",
            "Option 2: soliditySha3\n"
          ]
        },
        {
          "output_type": "display_data",
          "data": {
            "text/plain": [
              "HexBytes('0xf652222313e28459528d920b65115c16c04f3efc82aaedc97be59f3f377c0d3f')"
            ]
          },
          "metadata": {}
        },
        {
          "output_type": "stream",
          "name": "stdout",
          "text": [
            "\n",
            "Use hash_user1_location to get the ID of the first User\n",
            " ID of the first User:\n"
          ]
        },
        {
          "output_type": "display_data",
          "data": {
            "text/plain": [
              "HexBytes('0x0000000000000000000000000000000000000000000000000000000000000000')"
            ]
          },
          "metadata": {}
        },
        {
          "output_type": "stream",
          "name": "stdout",
          "text": [
            "\n",
            "Get hash of User 1 password location: increment hash of ID by 1\n"
          ]
        },
        {
          "output_type": "display_data",
          "data": {
            "text/plain": [
              "'0xf652222313e28459528d920b65115c16c04f3efc82aaedc97be59f3f377c0d40'"
            ],
            "application/vnd.google.colaboratory.intrinsic+json": {
              "type": "string"
            }
          },
          "metadata": {}
        },
        {
          "output_type": "stream",
          "name": "stdout",
          "text": [
            "\n",
            " ..3f becomes ..40\n"
          ]
        }
      ]
    },
    {
      "cell_type": "code",
      "source": [
        "# convert new hash to human readable value\n",
        "print('\\n Get User1 password')\n",
        "hexstr1 = \"0xf652222313e28459528d920b65115c16c04f3efc82aaedc97be59f3f377c0d40\"\n",
        "str(w3.eth.getStorageAt(addr, hexstr1))"
      ],
      "metadata": {
        "colab": {
          "base_uri": "https://localhost:8080/",
          "height": 71
        },
        "id": "tWy6Ny-ov4_t",
        "outputId": "ee85c2bf-8a94-466d-becd-7d5ef0d86d03"
      },
      "execution_count": null,
      "outputs": [
        {
          "output_type": "stream",
          "name": "stdout",
          "text": [
            "\n",
            " Get User1 password\n"
          ]
        },
        {
          "output_type": "execute_result",
          "data": {
            "text/plain": [
              "\"b'thisisuser1password\\\\x00\\\\x00\\\\x00\\\\x00\\\\x00\\\\x00\\\\x00\\\\x00\\\\x00\\\\x00\\\\x00\\\\x00\\\\x00'\""
            ],
            "application/vnd.google.colaboratory.intrinsic+json": {
              "type": "string"
            }
          },
          "metadata": {},
          "execution_count": 9
        }
      ]
    },
    {
      "cell_type": "markdown",
      "source": [
        "User 2"
      ],
      "metadata": {
        "id": "2PpjEF0zRVCu"
      }
    },
    {
      "cell_type": "code",
      "source": [
        "# increment hash_user1_PWD_location by 1 to get User 2 ID location\n",
        "print('\\nIncrement hash_user1_PWD_location by 1 to get User 2 ID location')\n",
        "hash_user2_ID_loc = \"0xf652222313e28459528d920b65115c16c04f3efc82aaedc97be59f3f377c0d41\"\n",
        "display(hash_user2_ID_loc)\n",
        "\n",
        "# Get the ID of the 2nd user\n",
        "print('\\nGet ID User 2 from new hash:')\n",
        "display(w3.eth.getStorageAt(addr, hash_user2_ID_loc))\n",
        "\n",
        "# increment hash of User 2 ID location by 1 to get User 2 password location\n",
        "print('\\nIncrement hash of User 2 ID location by 1 to get User 2 password location')\n",
        "hash_user2_PWD_location = \"0xf652222313e28459528d920b65115c16c04f3efc82aaedc97be59f3f377c0d42\"\n",
        "display(hash_user2_PWD_location)\n",
        "\n",
        "# convert to human readable value\n",
        "print('\\nGet User2 password')\n",
        "str(w3.eth.getStorageAt(addr, hash_user2_PWD_location))"
      ],
      "metadata": {
        "colab": {
          "base_uri": "https://localhost:8080/",
          "height": 233
        },
        "id": "CeJgzCvuR_HD",
        "outputId": "f84d4554-854d-4e3c-985b-2bf0154edef2"
      },
      "execution_count": null,
      "outputs": [
        {
          "output_type": "stream",
          "name": "stdout",
          "text": [
            "\n",
            "Increment hash_user1_PWD_location by 1 to get User 2 ID location\n"
          ]
        },
        {
          "output_type": "display_data",
          "data": {
            "text/plain": [
              "'0xf652222313e28459528d920b65115c16c04f3efc82aaedc97be59f3f377c0d41'"
            ],
            "application/vnd.google.colaboratory.intrinsic+json": {
              "type": "string"
            }
          },
          "metadata": {}
        },
        {
          "output_type": "stream",
          "name": "stdout",
          "text": [
            "\n",
            "Get ID User 2 from new hash:\n"
          ]
        },
        {
          "output_type": "display_data",
          "data": {
            "text/plain": [
              "HexBytes('0x0000000000000000000000000000000000000000000000000000000000000001')"
            ]
          },
          "metadata": {}
        },
        {
          "output_type": "stream",
          "name": "stdout",
          "text": [
            "\n",
            "Increment hash of User 2 ID location by 1 to get User 2 password location\n"
          ]
        },
        {
          "output_type": "display_data",
          "data": {
            "text/plain": [
              "'0xf652222313e28459528d920b65115c16c04f3efc82aaedc97be59f3f377c0d42'"
            ],
            "application/vnd.google.colaboratory.intrinsic+json": {
              "type": "string"
            }
          },
          "metadata": {}
        },
        {
          "output_type": "stream",
          "name": "stdout",
          "text": [
            "\n",
            "Get User2 password\n"
          ]
        },
        {
          "output_type": "execute_result",
          "data": {
            "text/plain": [
              "\"b'user2megastrongpassword\\\\x00\\\\x00\\\\x00\\\\x00\\\\x00\\\\x00\\\\x00\\\\x00\\\\x00'\""
            ],
            "application/vnd.google.colaboratory.intrinsic+json": {
              "type": "string"
            }
          },
          "metadata": {},
          "execution_count": 10
        }
      ]
    },
    {
      "cell_type": "markdown",
      "source": [],
      "metadata": {
        "id": "qNyd2WgcdZ66"
      }
    },
    {
      "cell_type": "markdown",
      "source": [
        "slot 7 - empty"
      ],
      "metadata": {
        "id": "YvbZNAaHSsYu"
      }
    },
    {
      "cell_type": "code",
      "source": [
        "w3.eth.getStorageAt(addr, 7)"
      ],
      "metadata": {
        "colab": {
          "base_uri": "https://localhost:8080/"
        },
        "id": "tyvLg41G0uBk",
        "outputId": "ccc3b83f-e082-47d7-b8fd-6793f2ca5b45"
      },
      "execution_count": null,
      "outputs": [
        {
          "output_type": "execute_result",
          "data": {
            "text/plain": [
              "HexBytes('0x0000000000000000000000000000000000000000000000000000000000000000')"
            ]
          },
          "metadata": {},
          "execution_count": 15
        }
      ]
    },
    {
      "cell_type": "markdown",
      "source": [
        "Mapping"
      ],
      "metadata": {
        "id": "VHymmPj9MpbW"
      }
    },
    {
      "cell_type": "code",
      "source": [
        "# get hex of the map location of User 2\n",
        "\n",
        "print('Slot where User 2 entry of the mapping is stored:')\n",
        "# Option 1\n",
        "print('\\nOption 1: with custom function')\n",
        "mapHexOpt1 = contract.functions.getMapLocation(7, 1).call()\n",
        "display(mapHexOpt1)\n",
        "\n",
        "mapHexLocation = w3.toHex(mapHexOpt1)\n",
        "display(mapHexLocation)\n",
        "\n",
        "# Option 2\n",
        "print('\\nOption 2: with soliditySha3')\n",
        "mapHexOpt2 = w3.soliditySha3(['uint256', 'uint256'], [1, 7])\n",
        "display(mapHexOpt2)"
      ],
      "metadata": {
        "id": "6TM6G3_M71EC",
        "colab": {
          "base_uri": "https://localhost:8080/",
          "height": 160
        },
        "outputId": "249baeaf-473a-44f8-c539-690a952658d8"
      },
      "execution_count": null,
      "outputs": [
        {
          "output_type": "stream",
          "name": "stdout",
          "text": [
            "Slot where User 2 entry of the mapping is stored:\n",
            "\n",
            "Option 1: with custom function\n"
          ]
        },
        {
          "output_type": "display_data",
          "data": {
            "text/plain": [
              "81222191986226809103279119994707868322855741819905904417953092666699096963112"
            ]
          },
          "metadata": {}
        },
        {
          "output_type": "display_data",
          "data": {
            "text/plain": [
              "'0xb39221ace053465ec3453ce2b36430bd138b997ecea25c1043da0c366812b828'"
            ],
            "application/vnd.google.colaboratory.intrinsic+json": {
              "type": "string"
            }
          },
          "metadata": {}
        },
        {
          "output_type": "stream",
          "name": "stdout",
          "text": [
            "\n",
            "Option 2: with soliditySha3\n"
          ]
        },
        {
          "output_type": "display_data",
          "data": {
            "text/plain": [
              "HexBytes('0xb39221ace053465ec3453ce2b36430bd138b997ecea25c1043da0c366812b828')"
            ]
          },
          "metadata": {}
        }
      ]
    },
    {
      "cell_type": "code",
      "source": [
        "# Get the ID of the 1st user in the mapping (ID=1)\n",
        "print('Get the hash of the value stored at that location')\n",
        "print(\" It\\'s the ID of user 2 in mapping\")\n",
        "User2ID = w3.eth.getStorageAt(addr, mapHexOpt2)\n",
        "display(User2ID)\n",
        "\n",
        "# increment data location by 1 to get the password location\n",
        "print('\\nIncrement data location of User by 1')\n",
        "User2PwdLoc = '0xb39221ace053465ec3453ce2b36430bd138b997ecea25c1043da0c366812b829'\n",
        "display(User2PwdLoc)"
      ],
      "metadata": {
        "colab": {
          "base_uri": "https://localhost:8080/",
          "height": 125
        },
        "id": "WYDXbzB5OANF",
        "outputId": "6c0cdffb-f807-45f8-fb12-d4744a87f71f"
      },
      "execution_count": null,
      "outputs": [
        {
          "output_type": "stream",
          "name": "stdout",
          "text": [
            "Get the hash of the value stored at that location\n",
            " It's the ID of user 2 in mapping\n"
          ]
        },
        {
          "output_type": "display_data",
          "data": {
            "text/plain": [
              "HexBytes('0x0000000000000000000000000000000000000000000000000000000000000001')"
            ]
          },
          "metadata": {}
        },
        {
          "output_type": "stream",
          "name": "stdout",
          "text": [
            "\n",
            "Increment data location of User by 1\n"
          ]
        },
        {
          "output_type": "display_data",
          "data": {
            "text/plain": [
              "'0xb39221ace053465ec3453ce2b36430bd138b997ecea25c1043da0c366812b829'"
            ],
            "application/vnd.google.colaboratory.intrinsic+json": {
              "type": "string"
            }
          },
          "metadata": {}
        }
      ]
    },
    {
      "cell_type": "code",
      "source": [
        "# convert to human readable value\n",
        "print('\\nUser2 pwd is:')\n",
        "str(w3.eth.getStorageAt(addr, User2PwdLoc))"
      ],
      "metadata": {
        "colab": {
          "base_uri": "https://localhost:8080/",
          "height": 71
        },
        "id": "ELYewjDlUc8E",
        "outputId": "a6db0160-f5bf-4310-a3c5-c78ecb58d0c9"
      },
      "execution_count": null,
      "outputs": [
        {
          "output_type": "stream",
          "name": "stdout",
          "text": [
            "\n",
            "User2 pwd is:\n"
          ]
        },
        {
          "output_type": "execute_result",
          "data": {
            "text/plain": [
              "\"b'user2megastrongpassword\\\\x00\\\\x00\\\\x00\\\\x00\\\\x00\\\\x00\\\\x00\\\\x00\\\\x00'\""
            ],
            "application/vnd.google.colaboratory.intrinsic+json": {
              "type": "string"
            }
          },
          "metadata": {},
          "execution_count": 20
        }
      ]
    },
    {
      "cell_type": "code",
      "source": [],
      "metadata": {
        "id": "ArtJNtVtZNm9"
      },
      "execution_count": null,
      "outputs": []
    }
  ]
}
